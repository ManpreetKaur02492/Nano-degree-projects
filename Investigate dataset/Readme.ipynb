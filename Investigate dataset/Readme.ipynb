{
 "cells": [
  {
   "cell_type": "markdown",
   "metadata": {},
   "source": [
    "## Investigate tmdb movies dataset"
   ]
  },
  {
   "cell_type": "markdown",
   "metadata": {},
   "source": [
    "#### Project Overview\n",
    "In this project, I will analyze a tmdb movies dataset and then communicate my findings about it. I started by taking a look at  tmdb movies dataset and brainstorming what questions I could answer using it. I selected 9 research questions that I was most interested in.I used the Python libraries NumPy, pandas, and Matplotlib to make analysis easier.This project is open-ended in that we are not looking for one right answer.\n",
    "#### What do I need to install?\n",
    "You will need an installation of Python, plus the following libraries:\n",
    "\n",
    "* pandas\n",
    "\n",
    "* NumPy\n",
    "\n",
    "* Matplotlib\n",
    "\n",
    "* csv\n",
    "\n",
    "I recommend installing Anaconda, which comes with all of the necessary packages, as well as IPython notebook.\n",
    "#### What will I learn?\n",
    "After completing the project, you will:\n",
    "\n",
    "Know all the steps involved in a typical data analysis process.\n",
    "\n",
    "Be comfortable posing questions that can be answered with a given dataset and then answering those questions.\n",
    "\n",
    "Know how to investigate problems in a dataset and wrangle the data into a format you can use.\n",
    "\n",
    "Have experience communicating the results of your analysis.\n",
    "\n",
    "Be able to use vectorized operations in NumPy and pandas to speed up your data analysis code.\n",
    "\n",
    "Be familiar with pandas' Series and DataFrame objects, which let you access your data more conveniently.\n",
    "\n",
    "Know how to use Matplotlib to produce plots showing your findings"
   ]
  }
 ],
 "metadata": {
  "kernelspec": {
   "display_name": "Python 3",
   "language": "python",
   "name": "python3"
  },
  "language_info": {
   "codemirror_mode": {
    "name": "ipython",
    "version": 3
   },
   "file_extension": ".py",
   "mimetype": "text/x-python",
   "name": "python",
   "nbconvert_exporter": "python",
   "pygments_lexer": "ipython3",
   "version": "3.7.1"
  }
 },
 "nbformat": 4,
 "nbformat_minor": 2
}
